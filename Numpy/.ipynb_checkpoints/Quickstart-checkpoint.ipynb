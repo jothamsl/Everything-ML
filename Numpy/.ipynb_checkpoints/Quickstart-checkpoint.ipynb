{
 "cells": [
  {
   "cell_type": "code",
   "execution_count": 1,
   "id": "d8d93fd7-3483-4a83-bb65-4d33102c5b21",
   "metadata": {},
   "outputs": [],
   "source": [
    "import numpy as np\n",
    "import matplotlib.pyplot as plt"
   ]
  },
  {
   "cell_type": "code",
   "execution_count": 4,
   "id": "ef6943c7-e86f-47e7-8480-c5a9020a3c90",
   "metadata": {},
   "outputs": [
    {
     "data": {
      "text/plain": [
       "array([3, 5, 1], dtype=int32)"
      ]
     },
     "execution_count": 4,
     "metadata": {},
     "output_type": "execute_result"
    }
   ],
   "source": [
    "arr = np.array([3, 5, 1], dtype=np.int32) # This is a simple numpy array with a specified 32-bit integer data type\n",
    "arr"
   ]
  },
  {
   "cell_type": "code",
   "execution_count": 14,
   "id": "fea6c745-f2b6-4fe4-b415-2bbef36dcd21",
   "metadata": {},
   "outputs": [
    {
     "data": {
      "text/plain": [
       "1"
      ]
     },
     "execution_count": 14,
     "metadata": {},
     "output_type": "execute_result"
    }
   ],
   "source": [
    "arr.ndim # Returns the number of axes (dimensions) of arr"
   ]
  },
  {
   "cell_type": "code",
   "execution_count": 15,
   "id": "e794b310-2ba4-4172-acd0-03b92df22b15",
   "metadata": {},
   "outputs": [
    {
     "data": {
      "text/plain": [
       "(3,)"
      ]
     },
     "execution_count": 15,
     "metadata": {},
     "output_type": "execute_result"
    }
   ],
   "source": [
    "arr.shape # Returns the dimensions of the array."
   ]
  },
  {
   "cell_type": "code",
   "execution_count": 16,
   "id": "daacaa25-62b3-42b8-b679-f39c63342215",
   "metadata": {},
   "outputs": [
    {
     "data": {
      "text/plain": [
       "3"
      ]
     },
     "execution_count": 16,
     "metadata": {},
     "output_type": "execute_result"
    }
   ],
   "source": [
    "arr.size # Returns the total number of elements in the array"
   ]
  },
  {
   "cell_type": "code",
   "execution_count": 17,
   "id": "e84ca52f-9f73-45fc-9730-80b16974b617",
   "metadata": {},
   "outputs": [
    {
     "data": {
      "text/plain": [
       "4"
      ]
     },
     "execution_count": 17,
     "metadata": {},
     "output_type": "execute_result"
    }
   ],
   "source": [
    "arr.itemsize # Returns the size (in bytes) of each element of the array"
   ]
  },
  {
   "cell_type": "code",
   "execution_count": 19,
   "id": "d3511127-8929-4ec9-8e6d-1e475c2b2682",
   "metadata": {},
   "outputs": [
    {
     "data": {
      "text/plain": [
       "<memory at 0x7ff6e643e4c0>"
      ]
     },
     "execution_count": 19,
     "metadata": {},
     "output_type": "execute_result"
    }
   ],
   "source": [
    "arr.data # Returns the buffer or memory location which contains the actual elements of the array."
   ]
  },
  {
   "cell_type": "code",
   "execution_count": 20,
   "id": "7775d374-c183-445b-9e02-7b9bbe2e42b4",
   "metadata": {},
   "outputs": [
    {
     "data": {
      "text/plain": [
       "array([[1.+0.j, 2.+0.j],\n",
       "       [3.+0.j, 4.+0.j]])"
      ]
     },
     "execution_count": 20,
     "metadata": {},
     "output_type": "execute_result"
    }
   ],
   "source": [
    "c = np.array([[1, 2],[3, 4]], dtype=complex) # You can even create arrays with complex numbers\n",
    "c"
   ]
  },
  {
   "cell_type": "code",
   "execution_count": 21,
   "id": "09604ade-3505-4878-893d-15b003381f98",
   "metadata": {},
   "outputs": [
    {
     "data": {
      "text/plain": [
       "array([[0., 0., 0., 0.],\n",
       "       [0., 0., 0., 0.]])"
      ]
     },
     "execution_count": 21,
     "metadata": {},
     "output_type": "execute_result"
    }
   ],
   "source": [
    "np.zeros((2, 4)) # array filled with zero's with a shape of 2, 4"
   ]
  },
  {
   "cell_type": "code",
   "execution_count": null,
   "id": "8c5996cf-60fb-4a3d-b2ee-7e07d44b32cd",
   "metadata": {},
   "outputs": [],
   "source": []
  }
 ],
 "metadata": {
  "kernelspec": {
   "display_name": "Python 3 (ipykernel)",
   "language": "python",
   "name": "python3"
  },
  "language_info": {
   "codemirror_mode": {
    "name": "ipython",
    "version": 3
   },
   "file_extension": ".py",
   "mimetype": "text/x-python",
   "name": "python",
   "nbconvert_exporter": "python",
   "pygments_lexer": "ipython3",
   "version": "3.9.5"
  }
 },
 "nbformat": 4,
 "nbformat_minor": 5
}
